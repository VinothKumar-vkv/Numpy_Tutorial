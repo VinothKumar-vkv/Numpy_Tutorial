{
 "cells": [
  {
   "cell_type": "markdown",
   "id": "9f9b6d1a-f700-4246-9934-fc005b19beb2",
   "metadata": {},
   "source": [
    "creating an array"
   ]
  },
  {
   "cell_type": "code",
   "execution_count": 7,
   "id": "c204f928-333f-4a5c-a3d1-05dbd12d63c7",
   "metadata": {},
   "outputs": [],
   "source": [
    "import numpy as np #importilng the numpy libray with alias name"
   ]
  },
  {
   "cell_type": "code",
   "execution_count": 9,
   "id": "7d29fcd6-d642-4caf-a574-dfc2af7b1d13",
   "metadata": {},
   "outputs": [
    {
     "name": "stdout",
     "output_type": "stream",
     "text": [
      "[1 2 3]\n"
     ]
    }
   ],
   "source": [
    "#creating an array \n",
    "n1 = np.array([1,2,3])\n",
    "print(n1)"
   ]
  },
  {
   "cell_type": "code",
   "execution_count": 11,
   "id": "bbdd8e4d-386f-4e2c-ae8f-acc4cb4cc0f4",
   "metadata": {},
   "outputs": [
    {
     "name": "stdout",
     "output_type": "stream",
     "text": [
      "[[1 2 3]\n",
      " [4 5 6]]\n"
     ]
    }
   ],
   "source": [
    "#creating 2D Array\n",
    "n2 = np.array([[1,2,3],[4,5,6]])\n",
    "print(n2)"
   ]
  },
  {
   "cell_type": "code",
   "execution_count": 13,
   "id": "d6e259ed-6449-48dc-ab8f-0a484eaad05d",
   "metadata": {},
   "outputs": [
    {
     "name": "stdout",
     "output_type": "stream",
     "text": [
      "[[0 0 0]\n",
      " [0 0 0]]\n"
     ]
    }
   ],
   "source": [
    "#zero's filled in 2D Arrays\n",
    "n3 = np.zeros([2,3], dtype = 'int32') #[first enter the number of rows, no of columns] dtype --> datatype\n",
    "print(n3)"
   ]
  },
  {
   "cell_type": "code",
   "execution_count": 15,
   "id": "53be788c-4a27-435d-92cd-9051e1e7d20c",
   "metadata": {},
   "outputs": [
    {
     "name": "stdout",
     "output_type": "stream",
     "text": [
      "[[[1 1 1]\n",
      "  [1 1 1]\n",
      "  [1 1 1]]\n",
      "\n",
      " [[1 1 1]\n",
      "  [1 1 1]\n",
      "  [1 1 1]]]\n"
     ]
    }
   ],
   "source": [
    "#array filled with 1's\n",
    "n4 = np.ones([2,3,3],dtype = 'int32') #(number of arrays, no of rows, no of columns)\n",
    "print(n4)"
   ]
  },
  {
   "cell_type": "code",
   "execution_count": 17,
   "id": "376f5116-050f-4fc6-970a-9f05df5cc7f8",
   "metadata": {},
   "outputs": [
    {
     "name": "stdout",
     "output_type": "stream",
     "text": [
      "[[1.09564483e-311 0.00000000e+000 2.18174307e+243]]\n"
     ]
    }
   ],
   "source": [
    "# create an empty array\n",
    "n5 = np.empty([1,3])\n",
    "print(n5)"
   ]
  },
  {
   "cell_type": "code",
   "execution_count": 19,
   "id": "4a30916a-f82b-4b41-b1b4-492708402375",
   "metadata": {},
   "outputs": [
    {
     "name": "stdout",
     "output_type": "stream",
     "text": [
      "[0 1 2 3 4 5 6 7 8 9]\n"
     ]
    }
   ],
   "source": [
    "#creating an array with a range of values\n",
    "n6 = np.arange(10)\n",
    "print(n6)"
   ]
  },
  {
   "cell_type": "code",
   "execution_count": 21,
   "id": "c0b15016-1652-4f32-a946-6e7a4dd0a5cf",
   "metadata": {
    "scrolled": true
   },
   "outputs": [
    {
     "name": "stdout",
     "output_type": "stream",
     "text": [
      "[-5  0  5]\n"
     ]
    }
   ],
   "source": [
    "n7 = np.arange(-5,10,5) #(start value, stop value, step value) and always stop is n-1 i.e if 10 na it will stop only at 9\n",
    "print(n7)"
   ]
  },
  {
   "cell_type": "code",
   "execution_count": 23,
   "id": "a0b48d9f-0c15-4563-a88e-358b8c9c2eb9",
   "metadata": {},
   "outputs": [
    {
     "name": "stdout",
     "output_type": "stream",
     "text": [
      "[10. 15. 20.]\n"
     ]
    }
   ],
   "source": [
    "#linear spaced entities\n",
    "n8 = np.linspace(10,20,num = 3)\n",
    "print(n8)"
   ]
  },
  {
   "cell_type": "code",
   "execution_count": 25,
   "id": "50c38cbf-923e-43a3-94a8-742a54469717",
   "metadata": {},
   "outputs": [
    {
     "name": "stdout",
     "output_type": "stream",
     "text": [
      "[[100 100 100]\n",
      " [100 100 100]]\n"
     ]
    }
   ],
   "source": [
    "# create an array with same number\n",
    "n9 = np.full([2,3],100)\n",
    "print(n9)"
   ]
  },
  {
   "cell_type": "code",
   "execution_count": 27,
   "id": "0df376ac-9e9e-46ce-869b-2c059022e8e1",
   "metadata": {},
   "outputs": [
    {
     "name": "stdout",
     "output_type": "stream",
     "text": [
      "[[100. 100. 100.]]\n"
     ]
    }
   ],
   "source": [
    "# we already created an empty array and stored it in n5. You can even use that and fill the required number.\n",
    "n5.fill(100)\n",
    "print(n5)"
   ]
  },
  {
   "cell_type": "markdown",
   "id": "2816f144-6a01-497f-9ba3-c582150df1ab",
   "metadata": {},
   "source": [
    "Access the array"
   ]
  },
  {
   "cell_type": "code",
   "execution_count": 30,
   "id": "0a40185b-7f1b-43e8-b376-6d1a0e302079",
   "metadata": {},
   "outputs": [
    {
     "name": "stdout",
     "output_type": "stream",
     "text": [
      "1\n"
     ]
    }
   ],
   "source": [
    "print(n1[0])"
   ]
  },
  {
   "cell_type": "code",
   "execution_count": 32,
   "id": "c395c3ac-9618-41bd-8a18-25fa0b221f58",
   "metadata": {},
   "outputs": [
    {
     "name": "stdout",
     "output_type": "stream",
     "text": [
      "3\n"
     ]
    }
   ],
   "source": [
    "print(n1[-1]) #backward indexing 😊"
   ]
  },
  {
   "cell_type": "code",
   "execution_count": 34,
   "id": "6b6ab447-3de6-48cc-a182-75794ec0cea5",
   "metadata": {},
   "outputs": [
    {
     "name": "stdout",
     "output_type": "stream",
     "text": [
      "2\n"
     ]
    }
   ],
   "source": [
    "# accessing an element of 2D Array\n",
    "print(n2[0,1]) #(first access the row number, then the column number)"
   ]
  },
  {
   "cell_type": "code",
   "execution_count": 36,
   "id": "561def06-2217-4ce7-b919-7a3a2ebaf8c8",
   "metadata": {},
   "outputs": [
    {
     "name": "stdout",
     "output_type": "stream",
     "text": [
      "[4 5 6]\n"
     ]
    }
   ],
   "source": [
    "print(n2[1,:]) # prints the entire row as output"
   ]
  },
  {
   "cell_type": "code",
   "execution_count": 38,
   "id": "4fccb3d5-b49c-4d59-8f3c-1aee2bdb268c",
   "metadata": {},
   "outputs": [
    {
     "name": "stdout",
     "output_type": "stream",
     "text": [
      "[2 5]\n"
     ]
    }
   ],
   "source": [
    "print(n2[:,1])"
   ]
  },
  {
   "cell_type": "code",
   "execution_count": 40,
   "id": "ece32166-c3eb-4bc5-bbb0-3c29f1d73479",
   "metadata": {},
   "outputs": [
    {
     "name": "stdout",
     "output_type": "stream",
     "text": [
      "[[[ 1  1  1]\n",
      "  [ 1  1  1]\n",
      "  [ 1  1  1]]\n",
      "\n",
      " [[ 1  1  1]\n",
      "  [ 1  1 10]\n",
      "  [ 1  1  1]]]\n"
     ]
    }
   ],
   "source": [
    "n4[1,1,2] = 10 # changing the value to another value\n",
    "print(n4)"
   ]
  },
  {
   "cell_type": "markdown",
   "id": "25a8b9d7-4b3c-4942-b02f-d68dbfc1c799",
   "metadata": {},
   "source": [
    "Size and Shape"
   ]
  },
  {
   "cell_type": "code",
   "execution_count": 43,
   "id": "649bfda2-98c3-4dae-9ae0-784592f03045",
   "metadata": {},
   "outputs": [
    {
     "name": "stdout",
     "output_type": "stream",
     "text": [
      "3\n"
     ]
    }
   ],
   "source": [
    "print(n4.ndim) # tells us how many dimensions or axes"
   ]
  },
  {
   "cell_type": "code",
   "execution_count": 45,
   "id": "51b690e5-93f0-4c13-a59c-e45711b0abd9",
   "metadata": {},
   "outputs": [
    {
     "name": "stdout",
     "output_type": "stream",
     "text": [
      "(2, 3, 3)\n"
     ]
    }
   ],
   "source": [
    "print(n4.shape) # tells us the internal structure of the array"
   ]
  },
  {
   "cell_type": "code",
   "execution_count": 47,
   "id": "28d3df66-b26c-46d8-bd82-40ff57cf680f",
   "metadata": {},
   "outputs": [
    {
     "name": "stdout",
     "output_type": "stream",
     "text": [
      "18\n"
     ]
    }
   ],
   "source": [
    "print(n4.size) #prints the tot no of elements"
   ]
  },
  {
   "cell_type": "code",
   "execution_count": 49,
   "id": "4d2261ed-d98a-467a-a150-d959c3380b40",
   "metadata": {},
   "outputs": [
    {
     "name": "stdout",
     "output_type": "stream",
     "text": [
      "int32\n"
     ]
    }
   ],
   "source": [
    "print(n4.dtype)"
   ]
  },
  {
   "cell_type": "code",
   "execution_count": 51,
   "id": "ce7e8669-c97e-4e02-b258-0a56dad93eb0",
   "metadata": {},
   "outputs": [
    {
     "name": "stdout",
     "output_type": "stream",
     "text": [
      "4\n"
     ]
    }
   ],
   "source": [
    "print(n4.itemsize) # to store an each element we require 4 bytes of data"
   ]
  },
  {
   "cell_type": "code",
   "execution_count": 53,
   "id": "e10bc1e1-867e-43e5-8da2-8ca0c27d4043",
   "metadata": {},
   "outputs": [
    {
     "name": "stdout",
     "output_type": "stream",
     "text": [
      "72\n"
     ]
    }
   ],
   "source": [
    "print(n4.nbytes) # total number of bytes is 18*4 = 72"
   ]
  },
  {
   "cell_type": "markdown",
   "id": "e0938437-ad27-41f8-9e29-2b3238fb78f7",
   "metadata": {},
   "source": [
    "Sorting an Array"
   ]
  },
  {
   "cell_type": "code",
   "execution_count": 56,
   "id": "7e987f66-37f6-424e-86d2-40e7de3dd797",
   "metadata": {},
   "outputs": [
    {
     "data": {
      "text/plain": [
       "array([ 1,  2,  3,  4,  4,  5,  5,  6, 10, 12, 13, 23])"
      ]
     },
     "execution_count": 56,
     "metadata": {},
     "output_type": "execute_result"
    }
   ],
   "source": [
    "n10 = np.array([1,2,5,4,3,6,5,4,10,23,12,13])\n",
    "np.sort(n10) # built-in function available inn "
   ]
  },
  {
   "cell_type": "code",
   "execution_count": 58,
   "id": "5db07e97-a854-4224-a1e5-95b438610b2d",
   "metadata": {},
   "outputs": [
    {
     "data": {
      "text/plain": [
       "array([[1, 2, 3],\n",
       "       [1, 2, 3]])"
      ]
     },
     "execution_count": 58,
     "metadata": {},
     "output_type": "execute_result"
    }
   ],
   "source": [
    "n11 = np.array([[3,2,1],[3,2,1]])\n",
    "np.sort(n11)"
   ]
  },
  {
   "cell_type": "code",
   "execution_count": 60,
   "id": "da737c48-ae7f-44c1-b070-b5e07e072d62",
   "metadata": {},
   "outputs": [
    {
     "data": {
      "text/plain": [
       "array([[3, 2, 1],\n",
       "       [3, 2, 1]])"
      ]
     },
     "execution_count": 60,
     "metadata": {},
     "output_type": "execute_result"
    }
   ],
   "source": [
    "np.sort(n11,axis=0) #takes first elemnt of the 1st and 2nd array and compares . if 1st<<2nd then it remains same . otherwise swapping occurs. continue the same to the next elements also"
   ]
  },
  {
   "cell_type": "markdown",
   "id": "ab600fa3-c448-4d54-a4fb-8d7d31b2a0f8",
   "metadata": {},
   "source": [
    "Reshaping and Array Conversions"
   ]
  },
  {
   "cell_type": "code",
   "execution_count": 63,
   "id": "910a246f-0111-4563-b453-520d48e6214e",
   "metadata": {},
   "outputs": [
    {
     "name": "stdout",
     "output_type": "stream",
     "text": [
      "[[ 1  2]\n",
      " [ 5  4]\n",
      " [ 3  6]\n",
      " [ 5  4]\n",
      " [10 23]\n",
      " [12 13]]\n"
     ]
    }
   ],
   "source": [
    "n12 = n10.reshape(6,2)\n",
    "print(n12)"
   ]
  },
  {
   "cell_type": "code",
   "execution_count": 65,
   "id": "e1bfd761-28e1-4559-8415-7e58f0404cfe",
   "metadata": {},
   "outputs": [
    {
     "name": "stdout",
     "output_type": "stream",
     "text": [
      "[[ 1  2  5  4  3  6]\n",
      " [ 5  4 10 23 12 13]]\n"
     ]
    }
   ],
   "source": [
    "n13 = n10.reshape(2,6)\n",
    "print(n13)"
   ]
  },
  {
   "cell_type": "code",
   "execution_count": 67,
   "id": "70bf8803-0030-4621-9049-3432be61c550",
   "metadata": {},
   "outputs": [
    {
     "name": "stdout",
     "output_type": "stream",
     "text": [
      "[0 1 2 3]\n",
      "[5 6 7 8]\n",
      "[0 1 2 3 5 6 7 8]\n"
     ]
    }
   ],
   "source": [
    "n14 = np.arange(4)\n",
    "print(n14)\n",
    "n15 = np.arange(5,9)\n",
    "print(n15)\n",
    "n16 = np.concatenate((n14,n15))\n",
    "print(n16)"
   ]
  },
  {
   "cell_type": "code",
   "execution_count": 73,
   "id": "9471eab2-41fa-4a33-a92b-0b338544dc6b",
   "metadata": {},
   "outputs": [
    {
     "name": "stdout",
     "output_type": "stream",
     "text": [
      "[0 1 2 3 4 5 6 7]\n",
      "[[0 1 2 3 4 5 6 7]]\n",
      "[[0]\n",
      " [1]\n",
      " [2]\n",
      " [3]\n",
      " [4]\n",
      " [5]\n",
      " [6]\n",
      " [7]]\n"
     ]
    }
   ],
   "source": [
    "n17 = np.arange(8)\n",
    "print(n17)\n",
    "n18 = n17[np.newaxis,:]\n",
    "n19 = n17[:,np.newaxis]\n",
    "print(n18)\n",
    "print(n19)"
   ]
  },
  {
   "cell_type": "code",
   "execution_count": 79,
   "id": "ce428ee9-b3fb-4727-a352-8eae766001de",
   "metadata": {},
   "outputs": [
    {
     "name": "stdout",
     "output_type": "stream",
     "text": [
      "[[0 1 2 3 5 6 7 8]]\n"
     ]
    }
   ],
   "source": [
    "n20 = np.expand_dims(n16,axis = 0) # axis = 1 print the output last above example\n",
    "print(n20)"
   ]
  },
  {
   "cell_type": "markdown",
   "id": "9666226a-36fd-4c27-bcc3-70d2ff0fb0b9",
   "metadata": {},
   "source": [
    "Indexing and slicing"
   ]
  },
  {
   "cell_type": "code",
   "execution_count": 82,
   "id": "47d20fa3-beae-4df5-bd61-e257886f3204",
   "metadata": {},
   "outputs": [
    {
     "name": "stdout",
     "output_type": "stream",
     "text": [
      "[0 1 2 3 4 5 6 7 8 9]\n",
      "[0 1 2 3 4]\n"
     ]
    }
   ],
   "source": [
    "n21 = np.arange(10)\n",
    "print(n21)\n",
    "print(n21[n21<5])"
   ]
  },
  {
   "cell_type": "code",
   "execution_count": 90,
   "id": "f31d7380-0890-4115-8d07-05f49e376ced",
   "metadata": {},
   "outputs": [
    {
     "name": "stdout",
     "output_type": "stream",
     "text": [
      "[4 5 6 7]\n"
     ]
    }
   ],
   "source": [
    "print(n21[(n21>3) & (n21 < 8) ])"
   ]
  },
  {
   "cell_type": "code",
   "execution_count": 92,
   "id": "97b53798-42ae-4cf3-a68b-5723dae590c1",
   "metadata": {},
   "outputs": [
    {
     "name": "stdout",
     "output_type": "stream",
     "text": [
      "[False False False False False False  True  True  True  True]\n",
      "[6 7 8 9]\n"
     ]
    }
   ],
   "source": [
    "five_up = n21>5\n",
    "print(five_up)\n",
    "print(n21[five_up])"
   ]
  },
  {
   "cell_type": "markdown",
   "id": "8481a77c-06e6-401f-8a89-c9aca8be8e68",
   "metadata": {},
   "source": [
    "stack, split\n"
   ]
  },
  {
   "cell_type": "code",
   "execution_count": 97,
   "id": "fabd9ac4-07fd-41af-a70b-55832b1449cc",
   "metadata": {},
   "outputs": [
    {
     "data": {
      "text/plain": [
       "array([[1, 2, 3, 4],\n",
       "       [4, 5, 6, 7]])"
      ]
     },
     "execution_count": 97,
     "metadata": {},
     "output_type": "execute_result"
    }
   ],
   "source": [
    "n22 = np. array([[1,2],[4,5]])\n",
    "n23 = np.array([[3,4],[6,7]])\n",
    "np.hstack((n22,n23)) # horizontal join"
   ]
  },
  {
   "cell_type": "code",
   "execution_count": 101,
   "id": "1c4a3196-17e3-4ed0-8bea-eaac441182db",
   "metadata": {},
   "outputs": [
    {
     "data": {
      "text/plain": [
       "array([[1, 2],\n",
       "       [4, 5],\n",
       "       [3, 4],\n",
       "       [6, 7]])"
      ]
     },
     "execution_count": 101,
     "metadata": {},
     "output_type": "execute_result"
    }
   ],
   "source": [
    "n22 = np. array([[1,2],[4,5]])\n",
    "n23 = np.array([[3,4],[6,7]])\n",
    "np.vstack((n22,n23)) # vertical join"
   ]
  },
  {
   "cell_type": "code",
   "execution_count": 105,
   "id": "797f019b-1bee-4553-9f5e-4296710ab2cc",
   "metadata": {},
   "outputs": [
    {
     "data": {
      "text/plain": [
       "[array([0, 1, 2, 3, 4]),\n",
       " array([5, 6, 7, 8, 9]),\n",
       " array([10, 11, 12, 13, 14]),\n",
       " array([15, 16, 17, 18, 19])]"
      ]
     },
     "execution_count": 105,
     "metadata": {},
     "output_type": "execute_result"
    }
   ],
   "source": [
    "n24 = np.arange(20)\n",
    "np.hsplit(n24,4) # the variable to split, and how count to be splitted"
   ]
  },
  {
   "cell_type": "code",
   "execution_count": 107,
   "id": "4dfeee1e-fdfd-43fe-b2b5-4e4b6ec64ec7",
   "metadata": {},
   "outputs": [
    {
     "name": "stdout",
     "output_type": "stream",
     "text": [
      "[100   1   2   3   4   5   6   7   8   9  10  11  12  13  14  15  16  17\n",
      "  18  19]\n",
      "[100   1   2   3   4   5   6   7   8   9  10  11  12  13  14  15  16  17\n",
      "  18  19]\n"
     ]
    }
   ],
   "source": [
    "n25 = n24 #shallow copy --> only the reference of the array is copied. so, if you change the value in one array the other also chanes.\n",
    "n25[0] = 100\n",
    "print(n25)\n",
    "print(n24)"
   ]
  },
  {
   "cell_type": "code",
   "execution_count": 111,
   "id": "e8813fbd-06b8-4576-b45f-7e4fc3c1c980",
   "metadata": {},
   "outputs": [
    {
     "name": "stdout",
     "output_type": "stream",
     "text": [
      "[100   1   2   3   4   5   6   7   8   9  10  11  12  13  14  15  16  17\n",
      "  18  19]\n"
     ]
    }
   ],
   "source": [
    "#deep copy\n",
    "n26 = n24.copy()\n",
    "print(n26)"
   ]
  },
  {
   "cell_type": "code",
   "execution_count": 113,
   "id": "5f57717f-d5fb-41c0-9805-87b4cc0b4d3a",
   "metadata": {},
   "outputs": [
    {
     "name": "stdout",
     "output_type": "stream",
     "text": [
      "[100   1   2   3   4   5   6   7   8   9  10  11  12  13  14  15  16  17\n",
      "  18  19]\n",
      "[100   1   2   3   4   5   6   7   8   9  10  11  12  13  14  15  16  17\n",
      "  18  19]\n"
     ]
    }
   ],
   "source": [
    "print(n24)\n",
    "print(n26)"
   ]
  },
  {
   "cell_type": "markdown",
   "id": "1f1cb99b-d545-4a2e-84e1-aaa2d2146ce1",
   "metadata": {},
   "source": [
    "Math operations\n"
   ]
  },
  {
   "cell_type": "code",
   "execution_count": 116,
   "id": "d8edef2d-4f4e-4c8c-88fa-3d3748604800",
   "metadata": {},
   "outputs": [
    {
     "name": "stdout",
     "output_type": "stream",
     "text": [
      "[200   2   4   6   8  10  12  14  16  18  20  22  24  26  28  30  32  34\n",
      "  36  38]\n"
     ]
    }
   ],
   "source": [
    "print(n24 + n25)"
   ]
  },
  {
   "cell_type": "code",
   "execution_count": 118,
   "id": "c734c37c-88c0-4094-bf8d-f4336cfef495",
   "metadata": {},
   "outputs": [
    {
     "name": "stdout",
     "output_type": "stream",
     "text": [
      "100\n"
     ]
    }
   ],
   "source": [
    "print(n24.max())"
   ]
  },
  {
   "cell_type": "code",
   "execution_count": 124,
   "id": "36101ea6-c5a2-4e19-bda2-015c9c5ae7fb",
   "metadata": {},
   "outputs": [
    {
     "name": "stdout",
     "output_type": "stream",
     "text": [
      "1\n"
     ]
    }
   ],
   "source": [
    "print(n24.min())"
   ]
  },
  {
   "cell_type": "markdown",
   "id": "8949caab-0366-4ec8-bf5a-00dec7d5a1e9",
   "metadata": {},
   "source": [
    "Random Numbers"
   ]
  },
  {
   "cell_type": "code",
   "execution_count": 127,
   "id": "dd7f1794-5950-40f3-9aae-983f35c1fa1b",
   "metadata": {},
   "outputs": [
    {
     "data": {
      "text/plain": [
       "array([[0.50493352, 0.84859548, 0.05677348],\n",
       "       [0.51924595, 0.06153579, 0.79154921],\n",
       "       [0.22555015, 0.41758594, 0.67577597]])"
      ]
     },
     "execution_count": 127,
     "metadata": {},
     "output_type": "execute_result"
    }
   ],
   "source": [
    "np.random.rand(3,3)"
   ]
  },
  {
   "cell_type": "code",
   "execution_count": 133,
   "id": "6fc947e5-0531-41a1-8172-50e1e4577db8",
   "metadata": {},
   "outputs": [
    {
     "data": {
      "text/plain": [
       "array([[ 8,  1, 13],\n",
       "       [13,  8, 12],\n",
       "       [ 1,  0, 17],\n",
       "       [ 5,  4, 13]])"
      ]
     },
     "execution_count": 133,
     "metadata": {},
     "output_type": "execute_result"
    }
   ],
   "source": [
    "np.random.randint(20,size = (4,3)) # (max number , size of the array)"
   ]
  },
  {
   "cell_type": "code",
   "execution_count": null,
   "id": "e47ec1f5-6460-4520-bcd9-8c070b2cfd1f",
   "metadata": {},
   "outputs": [],
   "source": []
  }
 ],
 "metadata": {
  "kernelspec": {
   "display_name": "Python 3",
   "language": "python",
   "name": "py3kernel"
  },
  "language_info": {
   "codemirror_mode": {
    "name": "ipython",
    "version": 3
   },
   "file_extension": ".py",
   "mimetype": "text/x-python",
   "name": "python",
   "nbconvert_exporter": "python",
   "pygments_lexer": "ipython3",
   "version": "3.10.18"
  }
 },
 "nbformat": 4,
 "nbformat_minor": 5
}
